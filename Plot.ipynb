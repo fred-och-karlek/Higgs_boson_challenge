{
 "cells": [
  {
   "cell_type": "code",
   "execution_count": null,
   "metadata": {},
   "outputs": [],
   "source": [
    "#seaborn library is needed "
   ]
  },
  {
   "cell_type": "code",
   "execution_count": null,
   "metadata": {},
   "outputs": [],
   "source": [
    "import seaborn as sns\n",
    "import matplotlib.pyplot as plt\n",
    "%matplotlib inline\n",
    "\n",
    "def visualize_demo():\n",
    "    '''\n",
    "    draw the line plot for each group about the prediction accurancy rate on different method\n",
    "    this values are from the prelimilary testing results\n",
    "    '''\n",
    "    # set backgroud style\n",
    "    sns.set(style=\"darkgrid\")\n",
    "    # x-axis data: group information \n",
    "    index = ['group1', 'group2', 'group3']\n",
    "    # y-axis data: prediction accurancy rate for each method\n",
    "    ls_sgd = [0.6105, 0.6177, 0.7468]\n",
    "    ls_gd = [0.7246, 0.7097, 0.7716]\n",
    "    ls = [0.8020, 0.7900, 0.8362]\n",
    "    rr = [0.8018, 0.7667, 0.8350]\n",
    "    lg = [0.7834, 0.7301, 0.8217]\n",
    "    rlg = [0.7776, 0.7343, 0.8202]\n",
    "    # initialize figure \n",
    "    fig = plt.figure()\n",
    "    # plot a group vs. accurancy rate chart for different method\n",
    "    plt.plot(index, ls_sgd, 'C0o-', alpha=0.5, label = 'least squares with SGD')\n",
    "    plt.plot(index, ls_gd, 'C1o-', alpha=0.5, label = 'least sqaures with GD')\n",
    "    plt.plot(index, ls, 'C2o-', alpha=0.5, label='least sqaures')\n",
    "    plt.plot(index, rr, 'C3o-', alpha=0.5, label='ridge regression')\n",
    "    plt.plot(index, lg, 'C4o-', alpha=0.5, label='logistic regression')\n",
    "    plt.plot(index, rlg, 'C5o-', alpha=0.5, label='reg-logistic regression')\n",
    "    # display necessary information for the figure\n",
    "    plt.legend(title='method')\n",
    "    plt.title('Prediction accuracy on different method')\n",
    "    plt.ylabel('accuracy')\n",
    "    plt.ylim(0.5, 0.9)\n",
    "    # save figure\n",
    "    plt.savefig('line chart.png')\n",
    "\n",
    "\n",
    "def visualize_degree():\n",
    "    # set backgroud style\n",
    "    sns.set(style=\"darkgrid\")\n",
    "    # x-axis data: degree of polynomial\n",
    "    d = [1, 2, 3, 4, 5, 6, 7, 8, 10]\n",
    "    # y-axis data: average accurancy rate for each group\n",
    "    g1 = [0.8003163, 0.84724366, 0.8480909, 0.8579753, 0.8584554, 0.85979215, 0.8600086, 0.86027224, 0.86080883]\n",
    "    g2 = [0.6928353, 0.75169329, 0.75473693, 0.77541368, 0.77758566, 0.7811723, 0.78088651, 0.78150096,  0.78250121]\n",
    "    g3 = [0.77750373, 0.79158423, 0.79807562, 0.80014907, 0.8003117, 0.80136875, 0.8020328, 0.80145006, 0.80211411]\n",
    "    # initialize figure\n",
    "    fig = plt.figure()\n",
    "    # plot a degree vs. accurancy rate figure for three group\n",
    "    plt.plot(d, g1, 'C0o-', alpha=0.5, label = 'Group1')\n",
    "    plt.plot(d, g2, 'C1o-', alpha=0.5, label = 'Group2')\n",
    "    plt.plot(d, g3, 'C2o-', alpha=0.5, label='Group3')\n",
    "    # highlight the optimal degree and its corresponding y-value with star\n",
    "    plt.scatter([9, 9, 9], [0.8607241, 0.78255837, 0.80227673], marker = '*', c = 'red', s = 40, alpha = 1)\n",
    "    # display necessary information for the figure\n",
    "    plt.legend(loc = 'lower right') \n",
    "    plt.title('Prediction accuracy of different max poly numbers(Ridge Regression)')\n",
    "    plt.ylabel('Average accuracy rate')\n",
    "    plt.xlabel('Degree of polynomial')\n",
    "    plt.ylim(0.6, 0.9)\n",
    "    # save figure \n",
    "    plt.savefig('degree.png')"
   ]
  },
  {
   "cell_type": "code",
   "execution_count": null,
   "metadata": {},
   "outputs": [],
   "source": [
    "visualize_degree()"
   ]
  },
  {
   "cell_type": "code",
   "execution_count": null,
   "metadata": {},
   "outputs": [],
   "source": [
    "visualize_demo()"
   ]
  }
 ],
 "metadata": {
  "kernelspec": {
   "display_name": "Python [conda env:pytorch_learn]",
   "language": "python",
   "name": "conda-env-pytorch_learn-py"
  },
  "language_info": {
   "codemirror_mode": {
    "name": "ipython",
    "version": 3
   },
   "file_extension": ".py",
   "mimetype": "text/x-python",
   "name": "python",
   "nbconvert_exporter": "python",
   "pygments_lexer": "ipython3",
   "version": "3.7.4"
  }
 },
 "nbformat": 4,
 "nbformat_minor": 2
}
